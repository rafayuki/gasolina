{
  "cells": [
    {
      "cell_type": "markdown",
      "metadata": {
        "id": "view-in-github",
        "colab_type": "text"
      },
      "source": [
        "<a href=\"https://colab.research.google.com/github/rafayuki/gasolina/blob/main/Lista_01.ipynb\" target=\"_parent\"><img src=\"https://colab.research.google.com/assets/colab-badge.svg\" alt=\"Open In Colab\"/></a>"
      ]
    },
    {
      "cell_type": "markdown",
      "id": "e2aa0955-bc3a-40c5-b39d-07fbc93ed6db",
      "metadata": {
        "tags": [],
        "id": "e2aa0955-bc3a-40c5-b39d-07fbc93ed6db"
      },
      "source": [
        "[![TMEC202 - Linguagem de Programação](https://img.shields.io/badge/TMEC202%20-%20Linguagem%20de%20Programação-orange)](https://ufprvirtual.ufpr.br/course/view.php?id=37408)\n",
        "\n",
        "* Professor: Felipe R. Loyola\n",
        "* 2025/1\n",
        "* Universidade Federal do Paraná - Departamento de Engenharia Mecânica\n",
        "----------"
      ]
    },
    {
      "cell_type": "markdown",
      "id": "fdd88882",
      "metadata": {
        "id": "fdd88882"
      },
      "source": [
        "# <font color=\"blue\" size=\"+5\">Lista de Exercícios 1: Variáveis, Tipos, Operadores e I/O</font>"
      ]
    },
    {
      "cell_type": "markdown",
      "id": "1a114ad1-b012-4233-8984-fe1d2ec09c12",
      "metadata": {
        "id": "1a114ad1-b012-4233-8984-fe1d2ec09c12"
      },
      "source": [
        "**Instruções Gerais:**\n",
        "\n",
        "1.  **Individualidade:** A resolução desta lista é de caráter **individual**.\n",
        "2.  **Originalidade:** Resoluções idênticas entre alunos ou copiadas da internet (incluindo soluções de IA não autorizadas) serão **anuladas**. Concentre-se em aplicar os conceitos vistos nas **Aulas 1 a 5**.\n",
        "3.  **Criatividade e Requisitos:** Use sua criatividade, mas certifique-se de cumprir todos os requisitos de cada exercício.\n",
        "4.  **Comentários:** Comente seu código explicando as etapas lógicas da sua solução. Isso ajuda na compreensão e avaliação.\n",
        "5.  **Entrega:** A entrega será realizada via UFPR Virtual, no formato de arquivo `.ipynb`, conforme data limite estipulada na plataforma.\n",
        "6.  **Integridade Acadêmica:** O uso de ferramentas de Inteligência Artificial para gerar soluções completas é **desencorajado**. Use a IA como ferramenta de aprendizado (para tirar dúvidas, entender conceitos), não para fazer o trabalho por você."
      ]
    },
    {
      "cell_type": "markdown",
      "id": "57e2dbfd",
      "metadata": {
        "id": "57e2dbfd"
      },
      "source": [
        "<font color=\"purple\">**Nota Importante sobre Formatação de Saída:**</font>\n",
        "\n",
        "Vários exercícios do Beecrowd exigem que a saída numérica (especialmente números decimais) seja formatada com um número específico de casas decimais. Embora a formatação detalhada seja o tópico da **Aula 6**, para resolver estes exercícios agora, introduziremos uma forma básica de usar **f-strings** para controlar as casas decimais:\n",
        "\n",
        "*   Para exibir um número `variavel_float` com **N** casas decimais, você pode usar:\n",
        "    ```python\n",
        "    print(f\"{variavel_float:.Nf}\")\n",
        "    ```\n",
        "    *   Substitua `N` pelo número de casas desejado (ex: `:.2f` para 2 casas, `:.5f` para 5 casas).\n",
        "    *   Coloque esta expressão dentro do seu comando `print()`, junto com qualquer texto necessário (ex: `print(f\"MEDIA = {media:.5f}\")`).\n",
        "\n",
        "Use esta técnica nos exercícios que exigirem formatação de saída específica. Veremos mais detalhes sobre f-strings na Aula 6."
      ]
    },
    {
      "cell_type": "markdown",
      "id": "f09b68a3-be28-40fb-94ca-854854100439",
      "metadata": {
        "id": "f09b68a3-be28-40fb-94ca-854854100439"
      },
      "source": [
        "# Exercício 1) [Adaptado de 1001 Beecrowd](https://www.beecrowd.com.br/judge/pt/problems/view/1001)\n",
        "## Extremamente Básico\n",
        "**Objetivo:** Ler dois números inteiros, calcular a soma e exibir o resultado no formato especificado.\n",
        "**Conceitos Revisados:** `input()`, `int()`, `+`, variáveis, `print()`, f-strings (básico).\n",
        "\n",
        "**Enunciado:**\n",
        "Leia 2 valores inteiros e armazene-os em variáveis (por exemplo, `A` e `B`). Calcule a soma de `A` e `B`, armazenando o resultado em uma variável `X`. Imprima o valor de `X` precedido pela mensagem \"X = \".\n",
        "\n",
        "**Entrada:**\n",
        "Dois números inteiros, um por linha.\n",
        "\n",
        "**Saída:**\n",
        "Imprima a mensagem \"X = \" (X maiúsculo), seguido de um espaço, o valor da soma, e uma nova linha no final. Deve haver um espaço antes e depois do sinal `=`.\n",
        "\n",
        "| Exemplos de Entrada | Exemplo de Saída |\n",
        "| :---------------- | :------------- |\n",
        "| 10<br>9           | `X = 19`       |\n",
        "| -10<br>4          | `X = -6`       |\n",
        "| 15<br>-7          | `X = 8`        |\n"
      ]
    },
    {
      "cell_type": "code",
      "execution_count": null,
      "id": "362d0d85-fbfa-4a7b-a966-fd945b86cdb7",
      "metadata": {
        "colab": {
          "base_uri": "https://localhost:8080/"
        },
        "id": "362d0d85-fbfa-4a7b-a966-fd945b86cdb7",
        "outputId": "6a786445-6287-4c47-a367-b3c57e74d4a4"
      },
      "outputs": [
        {
          "output_type": "stream",
          "name": "stdout",
          "text": [
            "Escolha um número. 10\n",
            "Escolha mais um número. 9\n",
            "X = 19\n"
          ]
        }
      ],
      "source": [
        "# Espaço para resolução do Exercício 01\n",
        "\n",
        "# pegando os valores de A e B e armazenando como \"A\" e \"B\"\n",
        "\n",
        "A = int(input(\"Escolha um número. \"))\n",
        "B = int(input(\"Escolha mais um número. \"))\n",
        "\n",
        "# criando a variável \"X\", que é dependente de \"A\" e \"B\".\n",
        "\n",
        "X = A + B\n",
        "\n",
        "print(f\"X = {X}\")"
      ]
    },
    {
      "cell_type": "markdown",
      "id": "6f2299bc-0194-4487-a987-8f69c37d3215",
      "metadata": {
        "id": "6f2299bc-0194-4487-a987-8f69c37d3215"
      },
      "source": [
        "# Exercício 2) [Adaptado de 1004 Beecrowd](https://www.beecrowd.com.br/judge/pt/problems/view/1004)\n",
        "## Produto Simples\n",
        "**Objetivo:** Ler dois números inteiros, calcular o produto e exibir o resultado no formato especificado.\n",
        "**Conceitos Revisados:** `input()`, `int()`, `*`, variáveis, `print()`, f-strings (básico).\n",
        "\n",
        "**Enunciado:**\n",
        "Leia 2 valores inteiros. Calcule o produto entre eles e atribua o resultado à variável `PROD`. Mostre a variável `PROD` precedida pela mensagem \"PROD = \".\n",
        "\n",
        "**Entrada:**\n",
        "Dois números inteiros, um por linha.\n",
        "\n",
        "**Saída:**\n",
        "Imprima a mensagem \"PROD = \", seguido de um espaço, o valor do produto, e uma nova linha. Deve haver um espaço antes e depois do sinal `=`.\n",
        "\n",
        "| Exemplos de Entrada | Exemplo de Saída |\n",
        "| :---------------- | :------------- |\n",
        "| 3<br>9            | `PROD = 27`    |\n",
        "| -30<br>10         | `PROD = -300`  |\n",
        "| 0<br>9            | `PROD = 0`     |\n"
      ]
    },
    {
      "cell_type": "code",
      "execution_count": null,
      "id": "867a61ec-7e1d-46cb-a485-f798f4e8d953",
      "metadata": {
        "colab": {
          "base_uri": "https://localhost:8080/"
        },
        "id": "867a61ec-7e1d-46cb-a485-f798f4e8d953",
        "outputId": "1c4a1837-cfdb-43c9-a7b3-451f5bd74805"
      },
      "outputs": [
        {
          "output_type": "stream",
          "name": "stdout",
          "text": [
            "Escolha um número. 9\n",
            "Escolha mais um número. 0\n",
            "PROD = 0\n"
          ]
        }
      ],
      "source": [
        "# Espaço para resolução do Exercício 02\n",
        "\n",
        "# Esse exercício será basicamente igual ao Exercício 01, mudando apenas a\n",
        "# operação realizada entre \"A\" e \"B\".\n",
        "\n",
        "# pegando os valores de A e B e armazenando como \"A\" e \"B\".\n",
        "A = int(input(\"Escolha um número. \"))\n",
        "B = int(input(\"Escolha mais um número. \"))\n",
        "\n",
        "# criando a variável \"PROD\", que é dependente de \"A\" e \"B\".\n",
        "PROD = A * B\n",
        "\n",
        "print(f\"PROD = {PROD}\")"
      ]
    },
    {
      "cell_type": "markdown",
      "id": "833b47a2-60f7-495d-8b17-7e3e62837be2",
      "metadata": {
        "id": "833b47a2-60f7-495d-8b17-7e3e62837be2"
      },
      "source": [
        "# Exercício 3) [Adaptado de 1005 Beecrowd](https://www.beecrowd.com.br/judge/pt/problems/view/1005)\n",
        "## Média 1\n",
        "**Objetivo:** Ler duas notas (ponto flutuante), calcular a média ponderada e exibir com precisão específica.\n",
        "**Conceitos Revisados:** `input()`, `float()`, `*`, `+`, `/`, variáveis, `print()`, f-strings (formatação de float).\n",
        "\n",
        "**Enunciado:**\n",
        "Leia 2 valores de ponto flutuante (`A` e `B`), correspondentes a duas notas de um aluno. Calcule a média ponderada, sabendo que a nota A tem peso 3.5 e a nota B tem peso 7.5 (soma dos pesos = 11). Assuma que cada nota pode ir de 0 a 10.0.\n",
        "\n",
        "**Entrada:**\n",
        "Dois números de ponto flutuante, um por linha.\n",
        "\n",
        "**Saída:**\n",
        "Imprima a mensagem \"MEDIA = \", seguido da média calculada com **5 dígitos após o ponto decimal**. Deve haver um espaço antes e depois do sinal `=`.\n",
        "\n",
        "| Exemplos de Entrada | Exemplo de Saída      |\n",
        "| :---------------- | :------------------ |\n",
        "| 5.0<br>7.1        | `MEDIA = 6.43182`   |\n",
        "| 0.0<br>7.1        | `MEDIA = 4.84091`   |\n",
        "| 10.0<br>10.0      | `MEDIA = 10.00000`  |"
      ]
    },
    {
      "cell_type": "code",
      "execution_count": null,
      "id": "47911434-ebec-4cae-838a-8e00ecfadf34",
      "metadata": {
        "colab": {
          "base_uri": "https://localhost:8080/"
        },
        "id": "47911434-ebec-4cae-838a-8e00ecfadf34",
        "outputId": "4e381ebf-93b9-48ea-9da6-8770e5675e2f"
      },
      "outputs": [
        {
          "output_type": "stream",
          "name": "stdout",
          "text": [
            "Qual foi a nota na P1? 10\n",
            "Qual foi a nota na P2? 5\n",
            "MEDIA = 6.59091\n"
          ]
        }
      ],
      "source": [
        "# Espaço para resolução do Exercício 03\n",
        "\n",
        "# Pra esse aqui, eu assumi que A seria a nota de uma \"prova 1 (P1)\" e B seria a\n",
        "# nota de uma \"prova 2 (P2)\". Não sei se essa era a ideia do enunciado, mas foi\n",
        "# assim que eu coloquei no input.\n",
        "\n",
        "A = float(input(\"Qual foi a nota na P1? \"))\n",
        "B = float(input(\"Qual foi a nota na P2? \"))\n",
        "\n",
        "# optei por usar o round para as casas decimais apenas por conveniência\n",
        "\n",
        "media = round((3.5 * A + 7.5 * B)/11, ndigits = 5)\n",
        "\n",
        "# verificação se as notas estão no intervalo solicitado entre 0 e 10.\n",
        "\n",
        "if A > 10 or B > 10:\n",
        "  print(f\"Nota inválida. As notas devem ter valor menor que 10.\")\n",
        "elif A < 0 or B < 0:\n",
        "  print(f\"Nota inválida. As notas devem ter valor maior que 0.\")\n",
        "elif 0 <= A <= 10 and 0 <= B <= 10:\n",
        "  print(f\"MEDIA = {media}\")\n"
      ]
    },
    {
      "cell_type": "markdown",
      "id": "17a0f8a6-bc63-49f7-a75a-a6c7cf8c6746",
      "metadata": {
        "id": "17a0f8a6-bc63-49f7-a75a-a6c7cf8c6746"
      },
      "source": [
        "# Exercício 4) [Adaptado de 1006 Beecrowd](https://www.beecrowd.com.br/judge/pt/problems/view/1006)\n",
        "## Média 2\n",
        "**Objetivo:** Ler três notas (ponto flutuante), calcular outra média ponderada e exibir com precisão específica.\n",
        "**Conceitos Revisados:** `input()`, `float()`, `*`, `+`, `/`, variáveis, `print()`, f-strings (formatação de float).\n",
        "\n",
        "**Enunciado:**\n",
        "Leia 3 valores de ponto flutuante (`A`, `B`, `C`), correspondentes a três notas de um aluno. Calcule a média ponderada, sabendo que A tem peso 2, B tem peso 3 e C tem peso 5 (soma dos pesos = 10). Considere que cada nota pode ir de 0 a 10.0.\n",
        "\n",
        "**Entrada:**\n",
        "Três números de ponto flutuante, um por linha.\n",
        "\n",
        "**Saída:**\n",
        "Imprima a mensagem \"MEDIA = \", seguido da média calculada com **1 dígito após o ponto decimal**. Deve haver um espaço antes e depois do sinal `=`.\n",
        "\n",
        "| Exemplos de Entrada     | Exemplo de Saída |\n",
        "| :---------------------- | :------------- |\n",
        "| 5.0<br>6.0<br>7.0    | `MEDIA = 6.3`  |\n",
        "| 5.0<br>10.0<br>10.0   | `MEDIA = 9.0`  |\n",
        "| 10.0<br>10.0<br>5.0   | `MEDIA = 7.5`  |\n"
      ]
    },
    {
      "cell_type": "code",
      "execution_count": null,
      "id": "04a89551-9b62-47e9-871c-e6abc2d963c3",
      "metadata": {
        "id": "04a89551-9b62-47e9-871c-e6abc2d963c3"
      },
      "outputs": [],
      "source": [
        "# Espaço para resolução do Exercício 04\n",
        "\n",
        "# Assim como no Exercício 03, considerei as notas A, B e C como sendo notas de\n",
        "# provas P1, P2 e P3, respectivamente.\n",
        "\n",
        "A = float(input(\"Qual foi a nota da P1? \"))\n",
        "B = float(input(\"Qual foi a nota da P2? \"))\n",
        "C = float(input(\"Qual foi a nota da P3? \"))\n",
        "\n",
        "# fiz a mesma coisa do exercício 03 para calcular a média\n",
        "\n",
        "media = round((2 * A + 3 * B + 5 * C)/10, ndigits = 1)\n",
        "\n",
        "# usei a mesma verificação do exercício 03.\n",
        "\n",
        "if A > 10 or B > 10 or C > 10:\n",
        "  print(f\"Nota inválida. As notas devem ter valor menor que 10.\")\n",
        "elif A < 0 or B < 0 or C < 0:\n",
        "  print(f\"Nota inválida. As notas devem ter valor maior que 0.\")\n",
        "elif 0 <= A <= 10 and 0 <= B <= 10 and 0 <= C <= 10:\n",
        "  print(f\"MEDIA = {media}\")"
      ]
    },
    {
      "cell_type": "markdown",
      "id": "aa6964c8-8aa0-47b7-961b-9692052b215a",
      "metadata": {
        "id": "aa6964c8-8aa0-47b7-961b-9692052b215a"
      },
      "source": [
        "# Exercício 5) [Adaptado de 1007 Beecrowd](https://www.beecrowd.com.br/judge/pt/problems/view/1007)\n",
        "## Diferença\n",
        "**Objetivo:** Ler quatro inteiros e calcular a diferença entre produtos.\n",
        "**Conceitos Revisados:** `input()`, `int()`, `*`, `-`, variáveis, `print()`, f-strings (básico), ordem das operações.\n",
        "\n",
        "**Enunciado:**\n",
        "Leia quatro valores inteiros `A`, `B`, `C` e `D`. Calcule e mostre a diferença do produto de `A` e `B` pelo produto de `C` e `D`, segundo a fórmula: `DIFERENCA = (A * B - C * D)`.\n",
        "\n",
        "**Entrada:**\n",
        "Quatro números inteiros, um por linha.\n",
        "\n",
        "**Saída:**\n",
        "Imprima a mensagem \"DIFERENCA = \", seguido do valor calculado. Deve haver um espaço antes e depois do sinal `=`.\n",
        "\n",
        "| Exemplos de Entrada         | Exemplo de Saída    |\n",
        "| :-------------------------- | :---------------- |\n",
        "| 5<br>6<br>7<br>8         | `DIFERENCA = -26` |\n",
        "| 0<br>0<br>7<br>8         | `DIFERENCA = -56` |\n",
        "| 5<br>6<br>-7<br>8        | `DIFERENCA = 86`  |"
      ]
    },
    {
      "cell_type": "code",
      "execution_count": null,
      "id": "694fcc08-a006-415f-9900-a429e04f03dd",
      "metadata": {
        "colab": {
          "base_uri": "https://localhost:8080/"
        },
        "id": "694fcc08-a006-415f-9900-a429e04f03dd",
        "outputId": "45a67684-0a75-48b6-b4a9-8b21c3530bd0"
      },
      "outputs": [
        {
          "output_type": "stream",
          "name": "stdout",
          "text": [
            "Qual será o primeiro número? 100\n",
            "Qual será o segundo número? 12\n",
            "Qual será o terceiro número? 12\n",
            "Qual será o quarto número? 10\n",
            "DIFERENÇA = 1080\n"
          ]
        }
      ],
      "source": [
        "# Espaço para resolução do Exercício 05\n",
        "\n",
        "A = int(input(\"Qual será o primeiro número? \"))\n",
        "B = int(input(\"Qual será o segundo número? \"))\n",
        "C = int(input(\"Qual será o terceiro número? \"))\n",
        "D = int(input(\"Qual será o quarto número? \"))\n",
        "\n",
        "# criando a variável dif para representar a diferença solicitada\n",
        "\n",
        "dif = ((A * B) - (C * D))\n",
        "\n",
        "print(f\"DIFERENÇA = {dif}\")"
      ]
    },
    {
      "cell_type": "markdown",
      "id": "a009f32a-6b53-4c7e-a300-fa1cf5ff41dd",
      "metadata": {
        "id": "a009f32a-6b53-4c7e-a300-fa1cf5ff41dd"
      },
      "source": [
        "# Exercício 6) [Adaptado de 1008 Beecrowd](https://www.beecrowd.com.br/judge/pt/problems/view/1008)\n",
        "## Salário\n",
        "**Objetivo:** Calcular o salário baseado em horas e valor/hora, formatando a saída monetária.\n",
        "**Conceitos Revisados:** `input()`, `int()`, `float()`, `*`, variáveis, `print()`, f-strings (formatação de float com 2 casas).\n",
        "\n",
        "**Enunciado:**\n",
        "Leia o número de um funcionário (inteiro), seu número de horas trabalhadas (inteiro) e o valor que recebe por hora (ponto flutuante com duas casas decimais). Calcule o salário do funcionário. Mostre o número do funcionário e seu salário formatado.\n",
        "\n",
        "**Entrada:**\n",
        "1.  Número do funcionário (inteiro).\n",
        "2.  Número de horas trabalhadas (inteiro).\n",
        "3.  Valor por hora (ponto flutuante).\n",
        "\n",
        "**Saída:**\n",
        "1.  Imprima \"NUMBER = \" seguido do número do funcionário.\n",
        "2.  Na linha seguinte, imprima \"SALARY = U$ \" seguido do salário calculado com **2 casas decimais**.\n",
        "\n",
        "| Exemplos de Entrada        | Exemplo de Saída                     |\n",
        "| :------------------------- | :----------------------------------- |\n",
        "| 25<br>100<br>5.50       | `NUMBER = 25`<br>`SALARY = U$ 550.00` |\n",
        "| 1<br>200<br>20.50       | `NUMBER = 1`<br>`SALARY = U$ 4100.00`|\n",
        "| 6<br>145<br>15.55       | `NUMBER = 6`<br>`SALARY = U$ 2254.75` |"
      ]
    },
    {
      "cell_type": "code",
      "execution_count": null,
      "id": "09da10f4-23b5-4e71-b157-a7cb4ebeeb9a",
      "metadata": {
        "colab": {
          "base_uri": "https://localhost:8080/"
        },
        "id": "09da10f4-23b5-4e71-b157-a7cb4ebeeb9a",
        "outputId": "dcf21fc1-3e84-44f2-9e1c-e7b56425c6b7"
      },
      "outputs": [
        {
          "output_type": "stream",
          "name": "stdout",
          "text": [
            "Qual o número do funcionário? 6\n",
            "Quantas horas esse funcionário trabalhou? 145\n",
            "Qual é o valor recebido por esse funcionário por hora? 15.55\n",
            "NUMBER = 6 \n",
            "SALARY = U$ 2254.75\n"
          ]
        }
      ],
      "source": [
        "# Espaço para resolução do Exercício 06\n",
        "\n",
        "# pegando as informações do funcionário\n",
        "\n",
        "numf = int(input(\"Qual o número do funcionário? \"))\n",
        "horas = int(input(\"Quantas horas esse funcionário trabalhou? \"))\n",
        "valorhora = float(input(\"Qual é o valor recebido por esse funcionário por hora? \"))\n",
        "\n",
        "# novamente usando o round para os decimais\n",
        "\n",
        "SAL = round((horas * valorhora), ndigits = 2)\n",
        "\n",
        "print(f\"NUMBER = {numf} \\nSALARY = U$ {SAL}\")"
      ]
    },
    {
      "cell_type": "markdown",
      "id": "7eb60d1b-d5c0-4219-91c6-51b4b6f8bffc",
      "metadata": {
        "id": "7eb60d1b-d5c0-4219-91c6-51b4b6f8bffc"
      },
      "source": [
        "# Exercício 7) [Adaptado de 1009 Beecrowd](https://www.beecrowd.com.br/judge/pt/problems/view/1009)\n",
        "## Salário com bônus\n",
        "**Objetivo:** Calcular salário com comissão, envolvendo entrada de texto e formatação de saída monetária.\n",
        "**Conceitos Revisados:** `input()` (string e float), `float()`, `*`, `+`, variáveis, `print()`, f-strings (formatação de float com 2 casas).\n",
        "\n",
        "**Enunciado:**\n",
        "Leia o primeiro nome de um vendedor (texto), seu salário fixo (ponto flutuante) e o total de vendas efetuadas por ele no mês (ponto flutuante). Sabendo que este vendedor ganha 15% (0.15) de comissão sobre suas vendas, calcule e informe o total a receber no final do mês.\n",
        "\n",
        "**Entrada:**\n",
        "1.  Primeiro nome do vendedor (string).\n",
        "2.  Salário fixo (ponto flutuante).\n",
        "3.  Total de vendas no mês (ponto flutuante).\n",
        "\n",
        "**Saída:**\n",
        "Imprima \"TOTAL = R$ \" seguido do valor total a receber com **2 casas decimais**.\n",
        "\n",
        "| Exemplos de Entrada               | Exemplo de Saída        |\n",
        "| :-------------------------------- | :-------------------- |\n",
        "| JOAO<br>500.00<br>1230.30       | `TOTAL = R$ 684.54`   |\n",
        "| PEDRO<br>700.00<br>0.00         | `TOTAL = R$ 700.00`   |\n",
        "| MANGOJATA<br>1700.00<br>1230.50 | `TOTAL = R$ 1884.58`  |\n",
        "\n"
      ]
    },
    {
      "cell_type": "code",
      "execution_count": null,
      "id": "1ddcc73a-3b35-469b-b7ca-6eb5393f2ba2",
      "metadata": {
        "colab": {
          "base_uri": "https://localhost:8080/"
        },
        "id": "1ddcc73a-3b35-469b-b7ca-6eb5393f2ba2",
        "outputId": "de6c7976-7762-4f07-fc58-2a2f973c6176"
      },
      "outputs": [
        {
          "output_type": "stream",
          "name": "stdout",
          "text": [
            "Qual o nome do funcionário? MANGOJATA\n",
            "Qual o salário dele(a)? 1700.00\n",
            "Quantas vendas ele(a) fez no mês? 1230.50\n",
            "TOTAL = R$1884.58\n"
          ]
        }
      ],
      "source": [
        "# Espaço para resolução do Exercício 07\n",
        "\n",
        "nome = input(\"Qual o nome do funcionário? \")\n",
        "salario = float(input(\"Qual o salário dele(a)? \"))\n",
        "vendas = float(input(\"Quantas vendas ele(a) fez no mês? \"))\n",
        "\n",
        "# primeiro vou criar a variável coms (comissão) e então somá-la ao salário.\n",
        "\n",
        "coms = float(15 * vendas)/100\n",
        "\n",
        "total = round(coms + salario, ndigits = 2)\n",
        "\n",
        "print(f\"TOTAL = R${total}\")\n"
      ]
    },
    {
      "cell_type": "markdown",
      "id": "d0a2c5c3-e3e9-4fca-8a13-b83f4f9fd7dc",
      "metadata": {
        "id": "d0a2c5c3-e3e9-4fca-8a13-b83f4f9fd7dc"
      },
      "source": [
        "# Exercício 8) [Adaptado de 1017 Beecrowd](https://www.beecrowd.com.br/judge/pt/problems/view/1017)\n",
        "## Gasto de Combustível\n",
        "**Objetivo:** Calcular o consumo de combustível baseado em tempo e velocidade, formatando a saída decimal.\n",
        "**Conceitos Revisados:** `input()`, `int()`, `*`, `/`, variáveis, `print()`, f-strings (formatação de float com 3 casas).\n",
        "\n",
        "**Enunciado:**\n",
        "Calcule a quantidade de litros de combustível gastos em uma viagem, utilizando um automóvel que faz 12 KM/L. Você receberá o tempo gasto na viagem (em horas) e a velocidade média (em km/h). Calcule a distância percorrida (`distancia = tempo * velocidade`) e, em seguida, quantos litros seriam necessários (`litros = distancia / 12`).\n",
        "\n",
        "**Entrada:**\n",
        "1.  Tempo gasto na viagem (inteiro, em horas).\n",
        "2.  Velocidade média durante a viagem (inteiro, em km/h).\n",
        "\n",
        "**Saída:**\n",
        "Imprima a quantidade de litros necessária com **3 casas decimais**.\n",
        "\n",
        "| Exemplos de Entrada | Exemplo de Saída |\n",
        "| :---------------- | :------------- |\n",
        "| 10<br>85          | `70.833`       |\n",
        "| 2<br>92           | `15.333`       |\n",
        "| 22<br>67          | `122.833`      |"
      ]
    },
    {
      "cell_type": "code",
      "execution_count": null,
      "id": "a28879c2-4333-41a6-a99e-be102016fa74",
      "metadata": {
        "colab": {
          "base_uri": "https://localhost:8080/"
        },
        "id": "a28879c2-4333-41a6-a99e-be102016fa74",
        "outputId": "6ea90bf4-5d4e-4726-c07d-9fef83d5345a"
      },
      "outputs": [
        {
          "output_type": "stream",
          "name": "stdout",
          "text": [
            "Quanto tempo de viagem, em horas? 10\n",
            "Qual será a velocidade média ao longo da viagem? 100\n",
            "Você irá precisar de 83.333 litros de gasolina.\n"
          ]
        }
      ],
      "source": [
        "# Espaço para resolução do Exercício 08\n",
        "\n",
        "tempo = int(input(\"Quanto tempo de viagem, em horas? \"))\n",
        "velocidade = int(input(\"Qual será a velocidade média ao longo da viagem? \"))\n",
        "\n",
        "# criando a variável dist (distância) com base no tempo e na velocidade e a\n",
        "# variável comb (combustível necessário)\n",
        "\n",
        "dist = tempo * velocidade\n",
        "comb = round(dist/12, ndigits = 3)\n",
        "\n",
        "print(f\"Você irá precisar de {comb} litros de gasolina.\")"
      ]
    },
    {
      "cell_type": "markdown",
      "id": "d40c926d-c9d5-483b-b749-2e4d3d551993",
      "metadata": {
        "id": "d40c926d-c9d5-483b-b749-2e4d3d551993"
      },
      "source": [
        "# Exercício 9) [Adaptado de 1021 Beecrowd](https://www.beecrowd.com.br/judge/pt/problems/view/1021)\n",
        "## Notas e Moedas\n",
        "**Objetivo:** Decompor um valor monetário no menor número de notas e moedas, praticando operações aritméticas (divisão inteira `//` e módulo `%`) e formatação de saída.\n",
        "**Conceitos Revisados:** `input()`, `float()`, `int()`, `//`, `%`, `*`, `-`, variáveis, `print()`, f-strings (formatação de float e int), manipulação de ponto flutuante.\n",
        "\n",
        "**Enunciado:**\n",
        "Leia um valor de ponto flutuante com duas casas decimais, representando um valor monetário. Calcule e imprima o menor número de notas e moedas possíveis para decompor esse valor. As notas são: R$ 100, 50, 20, 10, 5, 2. As moedas são: R$ 1.00, 0.50, 0.25, 0.10, 0.05, 0.01.\n",
        "\n",
        "**Entrada:**\n",
        "Um valor de ponto flutuante N (0 ≤ N ≤ 1000000.00).\n",
        "\n",
        "**Saída:**\n",
        "Imprima a relação de notas e moedas necessárias, seguindo o formato exato dos exemplos, incluindo \"NOTAS:\", \"MOEDAS:\", e a contagem para cada denominação.\n",
        "\n",
        "**<font color=\"red\">Dica Importante:</font>** Trabalhar diretamente com `float` para dinheiro pode causar pequenos erros de precisão. Uma técnica comum é multiplicar o valor de entrada por 100 e trabalhar com o valor total em centavos como um número inteiro. Depois, divida os valores das notas/moedas por 100 ao imprimir ou use os valores em centavos (10000, 5000, ..., 10, 5, 1 centavo) para os cálculos com `//` e `%`.\n",
        "\n",
        "| Exemplo de Entrada | Exemplo de Saída                                                                                                                                                                                                                                                           |\n",
        "| :----------------- | :------------------------------------------------------------------------------------------------------------------------------------------------------------------------------------------------------------------------------------------------------------------------- |\n",
        "| 576.73             | `NOTAS:`<br>`5 nota(s) de R$ 100.00`<br>`1 nota(s) de R$ 50.00`<br>`1 nota(s) de R$ 20.00`<br>`0 nota(s) de R$ 10.00`<br>`1 nota(s) de R$ 5.00`<br>`0 nota(s) de R$ 2.00`<br>`MOEDAS:`<br>`1 moeda(s) de R$ 1.00`<br>`1 moeda(s) de R$ 0.50`<br>`0 moeda(s) de R$ 0.25`<br>`2 moeda(s) de R$ 0.10`<br>`0 moeda(s) de R$ 0.05`<br>`3 moeda(s) de R$ 0.01` |\n",
        "| 4.00               | `NOTAS:`<br>`0 nota(s) de R$ 100.00`<br>`0 nota(s) de R$ 50.00`<br>`0 nota(s) de R$ 20.00`<br>`0 nota(s) de R$ 10.00`<br>`0 nota(s) de R$ 5.00`<br>`2 nota(s) de R$ 2.00`<br>`MOEDAS:`<br>`0 moeda(s) de R$ 1.00`<br>`0 moeda(s) de R$ 0.50`<br>`0 moeda(s) de R$ 0.25`<br>`0 moeda(s) de R$ 0.10`<br>`0 moeda(s) de R$ 0.05`<br>`0 moeda(s) de R$ 0.01` |\n",
        "| 91.01              | `NOTAS:`<br>`0 nota(s) de R$ 100.00`<br>`1 nota(s) de R$ 50.00`<br>`2 nota(s) de R$ 20.00`<br>`0 nota(s) de R$ 10.00`<br>`0 nota(s) de R$ 5.00`<br>`0 nota(s) de R$ 2.00`<br>`MOEDAS:`<br>`1 moeda(s) de R$ 1.00`<br>`0 moeda(s) de R$ 0.50`<br>`0 moeda(s) de R$ 0.25`<br>`0 moeda(s) de R$ 0.10`<br>`0 moeda(s) de R$ 0.05`<br>`1 moeda(s) de R$ 0.01` |\n"
      ]
    },
    {
      "cell_type": "code",
      "execution_count": null,
      "id": "6619cbef-2e4a-4082-9941-974e17113d3d",
      "metadata": {
        "id": "6619cbef-2e4a-4082-9941-974e17113d3d",
        "colab": {
          "base_uri": "https://localhost:8080/"
        },
        "outputId": "136aeb6f-f16d-4865-d07c-b08cd613fa55"
      },
      "outputs": [
        {
          "output_type": "stream",
          "name": "stdout",
          "text": [
            "Qual será o valor monetário? 4.00\n",
            "NOTAS:\n",
            "0 nota(s) de R$ 100.00\n",
            "0 nota(s) de R$ 50.00\n",
            "0 nota(s) de R$ 20.00\n",
            "0 nota(s) de R$ 10.00\n",
            "0 nota(s) de R$ 5.00\n",
            "2 nota(s) de R$ 2.00\n",
            "\n",
            "MOEDAS:\n",
            "0 moeda(s) de R$ 1.00\n",
            "0 moeda(s) de R$ 0.50\n",
            "0 moeda(s) de R$ 0.25\n",
            "0 moeda(s) de R$ 0.10\n",
            "0 moeda(s) de R$ 0.05\n",
            "0 moeda(s) de R$ 0.01\n"
          ]
        }
      ],
      "source": [
        "# Espaço para resolução do Exercício 09\n",
        "\n",
        "n = float(input(\"Qual será o valor monetário? \"))\n",
        "\n",
        "# seguindo a dica importante do enunciado de transformar em centavos:\n",
        "\n",
        "cent = int(100 * n)\n",
        "\n",
        "# a ideia é ir \"nota a nota\", tirando o valor máximo das notas mais altas e\n",
        "# pegando o resto para ser o valor tirado da nota inferior, e por assim vai até\n",
        "# a nota de 2 reais\n",
        "\n",
        "#começamos com a nota de 100 reais\n",
        "\n",
        "nt100 = cent // 10000\n",
        "cent1 = cent % 10000\n",
        "\n",
        "nt50 = cent1 // 5000\n",
        "cent2 = cent1 % 5000\n",
        "\n",
        "nt20 = cent2 // 2000\n",
        "cent3 = cent2 % 2000\n",
        "\n",
        "nt10 = cent3 // 1000\n",
        "cent4 = cent3 % 1000\n",
        "\n",
        "nt5 = cent4 // 500\n",
        "cent5 = cent4 % 500\n",
        "\n",
        "nt2 = cent5 // 200\n",
        "cent6 = cent5 % 200\n",
        "\n",
        "# agora as moedas, começando pela de 1 real\n",
        "\n",
        "# assim como as variáveis das notas são da forma nt(valor), as das moedas também\n",
        "# serão da forma mo(valor).\n",
        "\n",
        "mo100 = cent6 // 100\n",
        "cent7 = cent6 % 100\n",
        "\n",
        "mo50 = cent7 // 50\n",
        "cent8 = cent7 % 50\n",
        "\n",
        "mo25 = cent8 // 25\n",
        "cent9 = cent8 % 25\n",
        "\n",
        "mo10 = cent9 // 10\n",
        "cent10 = cent9 % 10\n",
        "\n",
        "mo5 = cent10 // 5\n",
        "cent11 = cent10 % 5\n",
        "\n",
        "mo1 = cent11\n",
        "\n",
        "resultado = (\n",
        "    f\"NOTAS:\\n\"\n",
        "    f\"{nt100} nota(s) de R$ 100.00\\n\"\n",
        "    f\"{nt50} nota(s) de R$ 50.00\\n\"\n",
        "    f\"{nt20} nota(s) de R$ 20.00\\n\"\n",
        "    f\"{nt10} nota(s) de R$ 10.00\\n\"\n",
        "    f\"{nt5} nota(s) de R$ 5.00\\n\"\n",
        "    f\"{nt2} nota(s) de R$ 2.00\\n\"\n",
        "    f\"\\n\"\n",
        "    f\"MOEDAS:\\n\"\n",
        "    f\"{mo100} moeda(s) de R$ 1.00\\n\"\n",
        "    f\"{mo50} moeda(s) de R$ 0.50\\n\"\n",
        "    f\"{mo25} moeda(s) de R$ 0.25\\n\"\n",
        "    f\"{mo10} moeda(s) de R$ 0.10\\n\"\n",
        "    f\"{mo5} moeda(s) de R$ 0.05\\n\"\n",
        "    f\"{mo1} moeda(s) de R$ 0.01\"\n",
        ")\n",
        "\n",
        "print(resultado)\n",
        "\n"
      ]
    },
    {
      "cell_type": "markdown",
      "id": "c9f94277-2223-48de-9cf7-696ee61d886d",
      "metadata": {
        "id": "c9f94277-2223-48de-9cf7-696ee61d886d"
      },
      "source": [
        "# Exercício 10) [Adaptado de 1078 Beecrowd](https://www.beecrowd.com.br/judge/pt/problems/view/1078)\n",
        "## Tabuada\n",
        "**Objetivo:** Calcular e exibir a tabuada de um número inteiro N, introduzindo o conceito básico de repetição com `for`.\n",
        "**Conceitos Revisados:** `input()`, `int()`, `*`, `print()`, f-strings (básico).\n",
        "**<font color=\"orange\">Novo Conceito (Preview):</font>** Loop `for` com `range()` para repetição.\n",
        "\n",
        "**Enunciado:**\n",
        "Leia 1 valor inteiro `N` (2 < N < 1000). A seguir, mostre a tabuada de `N` de 1 até 10.\n",
        "\n",
        "**Entrada:**\n",
        "Um valor inteiro N.\n",
        "\n",
        "**Saída:**\n",
        "Imprima a tabuada de N, linha por linha, no formato \"i x N = resultado\", onde `i` varia de 1 a 10.\n",
        "\n",
        "**<font color=\"purple\">Introdução ao Loop `for`:</font>**\n",
        "Para evitar escrever 10 comandos `print()` separados, podemos usar uma estrutura de repetição. O `for i in range(1, 11):` faz com que o bloco de código indentado abaixo dele seja executado 10 vezes. A cada vez, a variável `i` assume um valor diferente, começando em 1 e indo até 10 (o `range(1, 11)` gera números de 1 até *antes* de 11).\n",
        "\n",
        "| Exemplo de Entrada | Exemplo de Saída                                                                                                                                                                |\n",
        "| :----------------- | :------------------------------------------------------------------------------------------------------------------------------------------------------------------------------ |\n",
        "| 140                | `1 x 140 = 140`<br>`2 x 140 = 280`<br>`3 x 140 = 420`<br>`4 x 140 = 560`<br>`5 x 140 = 700`<br>`6 x 140 = 840`<br>`7 x 140 = 980`<br>`8 x 140 = 1120`<br>`9 x 140 = 1260`<br>`10 x 140 = 1400` |\n",
        "\n"
      ]
    },
    {
      "cell_type": "code",
      "execution_count": null,
      "id": "3d70a844-4283-4129-a458-a6327107dc08",
      "metadata": {
        "id": "3d70a844-4283-4129-a458-a6327107dc08"
      },
      "outputs": [],
      "source": [
        "# Espaço para resolução do Exercício 10\n",
        "\n",
        "n = int(input(\"Escolha um número inteiro entre 2 e 1000. \"))\n",
        "\n",
        "if n <= 2:\n",
        "  print(f\"O número deve ser maior que 2.\")\n",
        "  exit()\n",
        "elif n >= 1000:\n",
        "  print(f\"O número deve ser menor que 1000.\")\n",
        "  exit()\n",
        "elif 2 < n < 1000:\n",
        "    for i in range(1, 11):\n",
        "        result = i * n\n",
        "        print(f\"{i} x {n} = {result}\")\n",
        "    else:\n",
        "        print(f\"Essa é a tabuada do {n}.\")"
      ]
    }
  ],
  "metadata": {
    "kernelspec": {
      "display_name": "Python 3 (ipykernel)",
      "language": "python",
      "name": "python3"
    },
    "language_info": {
      "codemirror_mode": {
        "name": "ipython",
        "version": 3
      },
      "file_extension": ".py",
      "mimetype": "text/x-python",
      "name": "python",
      "nbconvert_exporter": "python",
      "pygments_lexer": "ipython3",
      "version": "3.12.4"
    },
    "colab": {
      "provenance": [],
      "include_colab_link": true
    }
  },
  "nbformat": 4,
  "nbformat_minor": 5
}